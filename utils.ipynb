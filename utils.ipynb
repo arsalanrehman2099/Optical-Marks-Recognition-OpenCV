{
 "cells": [
  {
   "cell_type": "code",
   "execution_count": 1,
   "metadata": {},
   "outputs": [],
   "source": [
    "import cv2\n",
    "import numpy as np"
   ]
  },
  {
   "cell_type": "markdown",
   "metadata": {},
   "source": [
    "##  Stack Images"
   ]
  },
  {
   "cell_type": "code",
   "execution_count": 2,
   "metadata": {},
   "outputs": [],
   "source": [
    "def stackImages(imgArray,scale,lables=[]):\n",
    "    rows = len(imgArray)\n",
    "    cols = len(imgArray[0])\n",
    "    rowsAvailable = isinstance(imgArray[0], list)\n",
    "    width = imgArray[0][0].shape[1]\n",
    "    height = imgArray[0][0].shape[0]\n",
    "    if rowsAvailable:\n",
    "        for x in range ( 0, rows):\n",
    "            for y in range(0, cols):\n",
    "                imgArray[x][y] = cv2.resize(imgArray[x][y], (0, 0), None, scale, scale)\n",
    "                if len(imgArray[x][y].shape) == 2: imgArray[x][y]= cv2.cvtColor( imgArray[x][y], cv2.COLOR_GRAY2BGR)\n",
    "        imageBlank = np.zeros((height, width, 3), np.uint8)\n",
    "        hor = [imageBlank]*rows\n",
    "        hor_con = [imageBlank]*rows\n",
    "        for x in range(0, rows):\n",
    "            hor[x] = np.hstack(imgArray[x])\n",
    "            hor_con[x] = np.concatenate(imgArray[x])\n",
    "        ver = np.vstack(hor)\n",
    "        ver_con = np.concatenate(hor)\n",
    "    else:\n",
    "        for x in range(0, rows):\n",
    "            imgArray[x] = cv2.resize(imgArray[x], (0, 0), None, scale, scale)\n",
    "            if len(imgArray[x].shape) == 2: imgArray[x] = cv2.cvtColor(imgArray[x], cv2.COLOR_GRAY2BGR)\n",
    "        hor= np.hstack(imgArray)\n",
    "        hor_con= np.concatenate(imgArray)\n",
    "        ver = hor\n",
    "    if len(lables) != 0:\n",
    "        eachImgWidth= int(ver.shape[1] / cols)\n",
    "        eachImgHeight = int(ver.shape[0] / rows)\n",
    "        #print(eachImgHeight)\n",
    "        for d in range(0, rows):\n",
    "            for c in range (0,cols):\n",
    "                cv2.rectangle(ver,(c*eachImgWidth,eachImgHeight*d),(c*eachImgWidth+len(lables[d][c])*13+27,30+eachImgHeight*d),(255,255,255),cv2.FILLED)\n",
    "                cv2.putText(ver,lables[d][c],(eachImgWidth*c+10,eachImgHeight*d+20),cv2.FONT_HERSHEY_COMPLEX,0.7,(255,0,255),2)\n",
    "    return ver"
   ]
  },
  {
   "cell_type": "markdown",
   "metadata": {},
   "source": [
    "## Find Rectangles"
   ]
  },
  {
   "cell_type": "code",
   "execution_count": 3,
   "metadata": {},
   "outputs": [],
   "source": [
    "def rectContour(contours):\n",
    "\n",
    "    rectCon = []\n",
    "    \n",
    "    for i in contours:\n",
    "        area = cv2.contourArea(i)\n",
    "        if area > 50:\n",
    "            peri = cv2.arcLength(i, True)\n",
    "            approx = cv2.approxPolyDP(i, 0.02 * peri, True)\n",
    "            if len(approx) == 4:\n",
    "                rectCon.append(i)\n",
    "    rectCon = sorted(rectCon, key=cv2.contourArea,reverse=True)\n",
    "    #print(len(rectCon))\n",
    "    return rectCon"
   ]
  },
  {
   "cell_type": "markdown",
   "metadata": {},
   "source": [
    "## Get Corner Points"
   ]
  },
  {
   "cell_type": "code",
   "execution_count": 4,
   "metadata": {},
   "outputs": [],
   "source": [
    "def getCornerPoints(cont):\n",
    "    peri = cv2.arcLength(cont, True) # LENGTH OF CONTOUR\n",
    "    approx = cv2.approxPolyDP(cont, 0.02 * peri, True) # APPROXIMATE THE POLY TO GET CORNER POINTS\n",
    "    return approx"
   ]
  },
  {
   "cell_type": "markdown",
   "metadata": {},
   "source": [
    "## Reorder Points"
   ]
  },
  {
   "cell_type": "code",
   "execution_count": 5,
   "metadata": {},
   "outputs": [],
   "source": [
    "def reorder(myPoints):\n",
    "\n",
    "    myPoints = myPoints.reshape((4, 2)) # REMOVE EXTRA BRACKET\n",
    "\n",
    "    myPointsNew = np.zeros((4, 1, 2), np.int32) # NEW MATRIX WITH ARRANGED POINTS\n",
    "    add = myPoints.sum(1)\n",
    "\n",
    "    myPointsNew[0] = myPoints[np.argmin(add)]  #[0,0]\n",
    "    myPointsNew[3] = myPoints[np.argmax(add)]   #[w,h]\n",
    "    diff = np.diff(myPoints, axis=1)\n",
    "    myPointsNew[1] = myPoints[np.argmin(diff)]  #[w,0]\n",
    "    myPointsNew[2] = myPoints[np.argmax(diff)] #[h,0]\n",
    "\n",
    "    return myPointsNew"
   ]
  },
  {
   "cell_type": "markdown",
   "metadata": {},
   "source": [
    "## Split Boxes"
   ]
  },
  {
   "cell_type": "code",
   "execution_count": 6,
   "metadata": {},
   "outputs": [],
   "source": [
    "def splitBoxes(img):\n",
    "    rows = np.vsplit(img,5)\n",
    "    boxes=[]\n",
    "    for r in rows:\n",
    "        cols= np.hsplit(r,5)\n",
    "        for box in cols:\n",
    "            boxes.append(box)\n",
    "    return boxes"
   ]
  },
  {
   "cell_type": "markdown",
   "metadata": {},
   "source": [
    "## Draw Grid"
   ]
  },
  {
   "cell_type": "code",
   "execution_count": 7,
   "metadata": {},
   "outputs": [],
   "source": [
    "def drawGrid(img,questions=5,choices=5):\n",
    "    secW = int(img.shape[1]/questions)\n",
    "    secH = int(img.shape[0]/choices)\n",
    "    for i in range (0,9):\n",
    "        pt1 = (0,secH*i)\n",
    "        pt2 = (img.shape[1],secH*i)\n",
    "        pt3 = (secW * i, 0)\n",
    "        pt4 = (secW*i,img.shape[0])\n",
    "        cv2.line(img, pt1, pt2, (255, 255, 0),2)\n",
    "        cv2.line(img, pt3, pt4, (255, 255, 0),2)\n",
    "\n",
    "    return img"
   ]
  },
  {
   "cell_type": "markdown",
   "metadata": {},
   "source": [
    "## Show Answers"
   ]
  },
  {
   "cell_type": "code",
   "execution_count": 8,
   "metadata": {},
   "outputs": [],
   "source": [
    "def showAnswers(img,myIndex,grading,ans,questions=5,choices=5):\n",
    "    secW = int(img.shape[1]/questions)\n",
    "    secH = int(img.shape[0]/choices)\n",
    "\n",
    "    for x in range(0,questions):\n",
    "        myAns= myIndex[x]\n",
    "        cX = (myAns * secW) + secW // 2\n",
    "        cY = (x * secH) + secH // 2\n",
    "        if grading[x]==1:\n",
    "            myColor = (0,255,0)\n",
    "            cv2.circle(img,(cX,cY),50,myColor,cv2.FILLED)\n",
    "        else:\n",
    "            myColor = (0,0,255)\n",
    "            cv2.circle(img, (cX, cY), 50, myColor, cv2.FILLED)\n",
    "\n",
    "            # CORRECT ANSWER\n",
    "            myColor = (0, 255, 0)\n",
    "            correctAns = ans[x]\n",
    "            cv2.circle(img,((correctAns * secW)+secW//2, (x * secH)+secH//2),\n",
    "            20,myColor,cv2.FILLED)\n",
    "\n",
    "    return img"
   ]
  },
  {
   "cell_type": "code",
   "execution_count": null,
   "metadata": {},
   "outputs": [],
   "source": []
  }
 ],
 "metadata": {
  "kernelspec": {
   "display_name": "Python 3",
   "language": "python",
   "name": "python3"
  },
  "language_info": {
   "codemirror_mode": {
    "name": "ipython",
    "version": 3
   },
   "file_extension": ".py",
   "mimetype": "text/x-python",
   "name": "python",
   "nbconvert_exporter": "python",
   "pygments_lexer": "ipython3",
   "version": "3.8.3"
  }
 },
 "nbformat": 4,
 "nbformat_minor": 4
}
